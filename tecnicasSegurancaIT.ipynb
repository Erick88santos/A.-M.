{
  "nbformat": 4,
  "nbformat_minor": 0,
  "metadata": {
    "colab": {
      "provenance": [],
      "authorship_tag": "ABX9TyNTLgtlAj6JRDs0rF5bfqfx",
      "include_colab_link": true
    },
    "kernelspec": {
      "name": "python3",
      "display_name": "Python 3"
    },
    "language_info": {
      "name": "python"
    }
  },
  "cells": [
    {
      "cell_type": "markdown",
      "metadata": {
        "id": "view-in-github",
        "colab_type": "text"
      },
      "source": [
        "<a href=\"https://colab.research.google.com/github/Erick88santos/A.-M./blob/main/tecnicasSegurancaIT.ipynb\" target=\"_parent\"><img src=\"https://colab.research.google.com/assets/colab-badge.svg\" alt=\"Open In Colab\"/></a>"
      ]
    },
    {
      "cell_type": "markdown",
      "source": [
        "# **Investigar e espionar pessoas.**\n",
        "\n",
        "[vídeo](https://tecnicasdeinvasao.com/intensivao-wkthi)"
      ],
      "metadata": {
        "id": "H_qwNqpOiNa_"
      }
    },
    {
      "cell_type": "markdown",
      "source": [
        "# Hacker Profissional \n",
        "\n",
        "##GOOGLE HACKING\n",
        "[como hackear](https://www.blackhat.com/presentations/bh-europe-05/BH_EU_05-Long.pdf).\n",
        "````\n",
        "filetype:txt intext::senha site:com\n",
        "````"
      ],
      "metadata": {
        "id": "dkw6jmoaIeJ5"
      }
    },
    {
      "cell_type": "markdown",
      "source": [
        "\n",
        "##Saber se a senha foi vazada\n",
        "[pwned](https://haveibeenpwned.com/)\n",
        "\n",
        "[deheshed](https://dehashed.com/)\n",
        "\n"
      ],
      "metadata": {
        "id": "XIQpvMr7L5jR"
      }
    },
    {
      "cell_type": "markdown",
      "source": [
        "\n",
        "#**Como hacker deve pensar** \n",
        "````\n",
        "ameaça\n",
        "````\n",
        "````\n",
        "vulnerabilidade \n",
        "````\n",
        "\n",
        "````\n",
        "ataque\n",
        "````\n"
      ],
      "metadata": {
        "id": "6lmURZ4OL56r"
      }
    },
    {
      "cell_type": "markdown",
      "source": [
        "# **Importante!!!!**\n",
        "\n",
        "Analogia do chaveiro.\n",
        "\n",
        "````\n",
        "não hackear as coisas sem permissão mesmo que seja por test\n",
        "````"
      ],
      "metadata": {
        "id": "En3orTLHvpQx"
      }
    },
    {
      "cell_type": "markdown",
      "source": [
        "Acesso FTP\n",
        "\n",
        "[santarosaLTDA](ftp:sant86:j2f2f9t4@www.santarosaltda.com.br)\n",
        "\n",
        "````\n",
        "login: sant86\n",
        "````\n",
        "\n",
        "````\n",
        "senha: j2f2f9t4\n",
        "````"
      ],
      "metadata": {
        "id": "9vJjxmyiy5Rh"
      }
    }
  ]
}