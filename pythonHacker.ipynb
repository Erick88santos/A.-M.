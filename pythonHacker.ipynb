{
  "nbformat": 4,
  "nbformat_minor": 0,
  "metadata": {
    "colab": {
      "provenance": [],
      "collapsed_sections": [],
      "authorship_tag": "ABX9TyMXEj/bQuUmxXqbxYUGbqzz",
      "include_colab_link": true
    },
    "kernelspec": {
      "name": "python3",
      "display_name": "Python 3"
    },
    "language_info": {
      "name": "python"
    }
  },
  "cells": [
    {
      "cell_type": "markdown",
      "metadata": {
        "id": "view-in-github",
        "colab_type": "text"
      },
      "source": [
        "<a href=\"https://colab.research.google.com/github/Erick88santos/A.-M./blob/main/pythonHacker.ipynb\" target=\"_parent\"><img src=\"https://colab.research.google.com/assets/colab-badge.svg\" alt=\"Open In Colab\"/></a>"
      ]
    },
    {
      "cell_type": "markdown",
      "source": [
        "#**H... Profissional**\n",
        "\n",
        "### Intensivão\n",
        "\n",
        "Quer descobrir o jeito mais fácil de hackear alguém?\n",
        "\n",
        "Inclusive, quando vou oferecer um serviço de teste de invasão/hacking, esse método funciona como um “super atalho” pra mim.\n",
        "\n",
        "Com isso dá pra ir direto de “usuário comum” para “administrador”, num estalar de dedos.\n",
        "\n",
        "Por isso, guarde bem essa dica de ouro.\n",
        "\n",
        "Vamos lá então:\n",
        "\n",
        "O jeito mais fácil de hackear TODAS as contas de uma pessoa (Facebook, Instagram, Google, TikTok, Tinder e etc) é…\n",
        "\n",
        "1) A senha da vítima ser vazada em algum site / aplicativo (isso é MUITO comum);\n",
        "2) A vítima usar a mesma senha em todos os seus logins;\n",
        "3) Pronto. Apenas isso! 😅\n",
        "\n",
        "Caso você não saiba, uma senha vazada pode ser comprada / consultada na internet. \n",
        "\n",
        "Hoje existem \"\"lugares específicos\"\" onde você pode ver senhas de vazamentos do LinkedIn, Netflix, Instagram, Facebook, SUS e VÁRIAS outras grandes e pequenas empresas!\n",
        "\n",
        "Duvida? Veja você mesmo, digite isso no Google:\n",
        "\n",
        "filetype:txt intext:@gmail.com and intext:senha\n",
        "\n",
        "Ou esta (resultados em inglês, este traz +60 mil vazamentos):\n",
        "\n",
        "filetype:txt intext:@gmail.com and intext:password\n",
        "\n",
        "OBS: Os resultados são sensíveis e mostram vazamentos REAIS. Não me responsabilizo pelos seus cliques e pesquisas.\n",
        "\n",
        "Isso foi apenas usando o Google. Basta saber o que pesquisar, e o resultado virá pra você.\n",
        "\n",
        "Inclusive, essa é uma das minhas técnicas favoritas como hacker profissional ;-)\n",
        "\n",
        "Atenção! Lembrete importante (guarde isto):\n",
        "\n",
        "A Live de Aquecimento da Semana do Hacking começa dia 02 de Novembro, estou contando com sua presença!\n",
        "\n",
        "Esse é o seu primeiro passo, o plano definitivo para você se tornar um Hacker Profissional.\n",
        "\n",
        "Bom hacking 🎩,\n",
        "Bruno Fraga"
      ],
      "metadata": {
        "id": "2JofRDnHwzDZ"
      }
    },
    {
      "cell_type": "markdown",
      "source": [
        "#**Python whois**\n",
        "\n",
        "### Consiste numa forma de achar o responsável legal pelo domínio. "
      ],
      "metadata": {
        "id": "uFG2vZAFxEEh"
      }
    },
    {
      "cell_type": "code",
      "execution_count": 2,
      "metadata": {
        "colab": {
          "base_uri": "https://localhost:8080/"
        },
        "id": "0YoH2BSQwufg",
        "outputId": "8e475f8c-1805-4f18-9509-4177c85ca774"
      },
      "outputs": [
        {
          "output_type": "stream",
          "name": "stdout",
          "text": [
            "Looking in indexes: https://pypi.org/simple, https://us-python.pkg.dev/colab-wheels/public/simple/\n",
            "Collecting python-whois\n",
            "  Downloading python-whois-0.8.0.tar.gz (109 kB)\n",
            "\u001b[K     |████████████████████████████████| 109 kB 4.9 MB/s \n",
            "\u001b[?25hRequirement already satisfied: future in /usr/local/lib/python3.7/dist-packages (from python-whois) (0.16.0)\n",
            "Building wheels for collected packages: python-whois\n",
            "  Building wheel for python-whois (setup.py) ... \u001b[?25l\u001b[?25hdone\n",
            "  Created wheel for python-whois: filename=python_whois-0.8.0-py3-none-any.whl size=103263 sha256=5897c1725f4bb85c0497a78b98e7842abc1e0f1177a71f3102925adf58354090\n",
            "  Stored in directory: /root/.cache/pip/wheels/ae/7d/a1/7cfba90ff34974c64149b70f689ff77dde232b8f1ec5de43b3\n",
            "Successfully built python-whois\n",
            "Installing collected packages: python-whois\n",
            "Successfully installed python-whois-0.8.0\n"
          ]
        }
      ],
      "source": [
        "!pip install python-whois"
      ]
    },
    {
      "cell_type": "code",
      "source": [
        "import whois\n",
        "\n",
        "from past.builtins import raw_input\n",
        "\n",
        "dominio = raw_input(\"ALVO: \")\n",
        "consulta_whois = whois.whois(dominio)\n",
        "\n",
        "#print consulta whois.name\n",
        "\n",
        "print(consulta_whois.text)\n"
      ],
      "metadata": {
        "colab": {
          "base_uri": "https://localhost:8080/"
        },
        "id": "TEhHQWU0lbkZ",
        "outputId": "a2aab24a-d48b-46df-8be0-d6d888f1b0a3"
      },
      "execution_count": 11,
      "outputs": [
        {
          "output_type": "stream",
          "name": "stdout",
          "text": [
            "ALVO: https://infograficos.oglobo.globo.com/politica/eleicoes-2022/apuracao-2022-em-tempo-real-consulte-resultado.html#/presidente?utm_source=homeoglobo&utm_medium=boxeleicoes&utm_campaign=eleicoes2022&turno=2\n",
            "   Domain Name: GLOBO.COM\n",
            "   Registry Domain ID: 2822135_DOMAIN_COM-VRSN\n",
            "   Registrar WHOIS Server: whois.1api.net\n",
            "   Registrar URL: http://www.1api.net\n",
            "   Updated Date: 2019-03-01T22:43:35Z\n",
            "   Creation Date: 1998-12-21T05:00:00Z\n",
            "   Registry Expiry Date: 2025-12-21T05:00:00Z\n",
            "   Registrar: 1API GmbH\n",
            "   Registrar IANA ID: 1387\n",
            "   Registrar Abuse Contact Email: abuse@1api.net\n",
            "   Registrar Abuse Contact Phone: +49.68949396850\n",
            "   Domain Status: clientDeleteProhibited https://icann.org/epp#clientDeleteProhibited\n",
            "   Domain Status: clientTransferProhibited https://icann.org/epp#clientTransferProhibited\n",
            "   Name Server: NS01.GLOBO.COM\n",
            "   Name Server: NS02.GLOBO.COM\n",
            "   Name Server: NS03.GLOBO.COM\n",
            "   Name Server: NS04.GLOBO.COM\n",
            "   DNSSEC: unsigned\n",
            "   URL of the ICANN Whois Inaccuracy Complaint Form: https://www.icann.org/wicf/\n",
            ">>> Last update of whois database: 2022-10-27T18:01:21Z <<<\n",
            "\n",
            "For more information on Whois status codes, please visit https://icann.org/epp\n",
            "\n",
            "NOTICE: The expiration date displayed in this record is the date the\n",
            "registrar's sponsorship of the domain name registration in the registry is\n",
            "currently set to expire. This date does not necessarily reflect the expiration\n",
            "date of the domain name registrant's agreement with the sponsoring\n",
            "registrar.  Users may consult the sponsoring registrar's Whois database to\n",
            "view the registrar's reported date of expiration for this registration.\n",
            "\n",
            "TERMS OF USE: You are not authorized to access or query our Whois\n",
            "database through the use of electronic processes that are high-volume and\n",
            "automated except as reasonably necessary to register domain names or\n",
            "modify existing registrations; the Data in VeriSign Global Registry\n",
            "Services' (\"VeriSign\") Whois database is provided by VeriSign for\n",
            "information purposes only, and to assist persons in obtaining information\n",
            "about or related to a domain name registration record. VeriSign does not\n",
            "guarantee its accuracy. By submitting a Whois query, you agree to abide\n",
            "by the following terms of use: You agree that you may use this Data only\n",
            "for lawful purposes and that under no circumstances will you use this Data\n",
            "to: (1) allow, enable, or otherwise support the transmission of mass\n",
            "unsolicited, commercial advertising or solicitations via e-mail, telephone,\n",
            "or facsimile; or (2) enable high volume, automated, electronic processes\n",
            "that apply to VeriSign (or its computer systems). The compilation,\n",
            "repackaging, dissemination or other use of this Data is expressly\n",
            "prohibited without the prior written consent of VeriSign. You agree not to\n",
            "use electronic processes that are automated and high-volume to access or\n",
            "query the Whois database except as reasonably necessary to register\n",
            "domain names or modify existing registrations. VeriSign reserves the right\n",
            "to restrict your access to the Whois database in its sole discretion to ensure\n",
            "operational stability.  VeriSign may restrict or terminate your access to the\n",
            "Whois database for failure to abide by these terms of use. VeriSign\n",
            "reserves the right to modify these terms at any time.\n",
            "\n",
            "The Registry database contains ONLY .COM, .NET, .EDU domains and\n",
            "Registrars.\n",
            "\n",
            "Domain Name: GLOBO.COM\n",
            "Registry Domain ID: 2822135_DOMAIN_COM-VRSN\n",
            "Registrar WHOIS Server: whois.1api.net\n",
            "Registrar URL: http://www.1api.net\n",
            "Updated Date: 2018-05-23T16:27:41Z\n",
            "Creation Date: 1998-12-21T05:00:00Z\n",
            "Registrar Registration Expiration Date: 2025-12-21T05:00:00Z\n",
            "Registrar: 1API GmbH\n",
            "Registrar IANA ID: 1387\n",
            "Registrar Abuse Contact Email: abuse@1api.net\n",
            "Registrar Abuse Contact Phone: +49.68949396x850\n",
            "Domain Status: clientDeleteProhibited - http://www.icann.org/epp#clientDeleteProhibited\n",
            "Domain Status: clientTransferProhibited - http://www.icann.org/epp#clientTransferProhibited\n",
            "Registry Registrant ID: \n",
            "Registrant Name: Globo Comunicacao e Participacoes S/A\n",
            "Registrant Organization: 27.865.757/0001-02\n",
            "Registrant Street: Rua Lopes Quintas\n",
            "303\n",
            "Registrant City: Rio de Janeiro\n",
            "Registrant State/Province: RJ\n",
            "Registrant Postal Code: 22460-010\n",
            "Registrant Country: BR\n",
            "Registrant Phone: +55.2125402000\n",
            "Registrant Phone Ext: \n",
            "Registrant Fax: \n",
            "Registrant Fax Ext: \n",
            "Registrant Email: dns-admin@corp.globo.com\n",
            "Registry Admin ID: \n",
            "Admin Name: Globo Comunicacao e Participacoes S.A.\n",
            "Admin Organization: \n",
            "Admin Street: Av das Americas\n",
            "700\n",
            "Admin City: Rio de Janeiro\n",
            "Admin State/Province: RJ\n",
            "Admin Postal Code: 22640100\n",
            "Admin Country: BR\n",
            "Admin Phone: +55.2125402000\n",
            "Admin Phone Ext: \n",
            "Admin Fax: \n",
            "Admin Fax Ext: \n",
            "Admin Email: dns-admin@corp.globo.com\n",
            "Registry Tech ID: \n",
            "Tech Name: Globo Comunicacao e Participacoes S.A.\n",
            "Tech Organization: \n",
            "Tech Street: Av das Americas\n",
            "700\n",
            "Tech City: Rio de Janeiro\n",
            "Tech State/Province: RJ\n",
            "Tech Postal Code: 22640100\n",
            "Tech Country: BR\n",
            "Tech Phone: +55.2125402000\n",
            "Tech Phone Ext: \n",
            "Tech Fax: \n",
            "Tech Fax Ext: \n",
            "Tech Email: dns-tech@corp.globo.com\n",
            "Name Server: ns01.globo.com 131.0.24.26 2804:0294:0100:0803:0131:0000:0024:0026\n",
            "Name Server: ns02.globo.com 186.192.89.18\n",
            "Name Server: ns03.globo.com 186.192.89.5 2804:0294:4000:8001:0000:0000:0000:0005\n",
            "Name Server: ns04.globo.com 177.53.95.213 2804:0294:8000:0200:0177:0053:0095:0213\n",
            "DNSSEC: unsigned\n",
            "URL of the ICANN WHOIS Data Problem Reporting System:\n",
            "http://wdprs.internic.net/\n",
            ">>> Last update of WHOIS database: 2022-10-27T18:01:29Z <<<\n",
            "\n",
            "For more information on Whois status codes, please visit https://www.icann.org/resources/pages/epp-status-codes-2014-06-16-en.\n",
            "\n",
            "; This data is provided for information purposes, and to assist persons\n",
            "; obtaining information about or related to domain name registration\n",
            "; records. We do not guarantee its accuracy.\n",
            "; By submitting a WHOIS query, you agree that you will use this data\n",
            "; only for lawful purposes and that, under no circumstances, you will\n",
            "; use this data to\n",
            "; 1) allow, enable, or otherwise support the transmission of mass\n",
            ";    unsolicited, commercial advertising or solicitations via E-mail\n",
            ";    (spam); or\n",
            "; 2) enable high volume, automated, electronic processes that apply\n",
            ";    to this WHOIS server.\n",
            "; These terms may be changed without prior notice.\n",
            "; By submitting this query, you agree to abide by this policy.\n",
            "\n",
            "\n",
            "\n"
          ]
        }
      ]
    },
    {
      "cell_type": "code",
      "source": [
        "import whois\n",
        "\n",
        "from past.builtins import raw_input\n",
        "\n",
        "dominio = input(\"ALVO: \")\n",
        "consulta_whois = whois.Whois(dominio)\n",
        "\n",
        "#print consulta whois.name\n",
        "\n",
        "print(consulta_whois.text)\n"
      ],
      "metadata": {
        "id": "cuDTb6J3lhMZ"
      },
      "execution_count": null,
      "outputs": []
    }
  ]
}